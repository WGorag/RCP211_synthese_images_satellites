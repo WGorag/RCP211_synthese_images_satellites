{
 "cells": [
  {
   "cell_type": "code",
   "execution_count": 12,
   "id": "b1c93776-009c-48e1-b38c-5db94732937f",
   "metadata": {},
   "outputs": [],
   "source": [
    "import os\n",
    "\n",
    "if not os.path.isdir(\"AerialImageDataset\"):\n",
    "    !curl -k https://files.inria.fr/aerialimagelabeling/getAerial.sh | bash"
   ]
  },
  {
   "cell_type": "code",
   "execution_count": null,
   "id": "dc92f639-ef3a-49cc-9a4e-af031ca8da70",
   "metadata": {},
   "outputs": [],
   "source": []
  }
 ],
 "metadata": {
  "kernelspec": {
   "display_name": "Python 3 (ipykernel)",
   "language": "python",
   "name": "python3"
  },
  "language_info": {
   "codemirror_mode": {
    "name": "ipython",
    "version": 3
   },
   "file_extension": ".py",
   "mimetype": "text/x-python",
   "name": "python",
   "nbconvert_exporter": "python",
   "pygments_lexer": "ipython3",
   "version": "3.8.10"
  }
 },
 "nbformat": 4,
 "nbformat_minor": 5
}
