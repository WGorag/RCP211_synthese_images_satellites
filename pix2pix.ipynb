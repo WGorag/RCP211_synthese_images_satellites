{
 "cells": [
  {
   "cell_type": "code",
   "execution_count": 1,
   "id": "b90b1188",
   "metadata": {},
   "outputs": [
    {
     "name": "stderr",
     "output_type": "stream",
     "text": [
      "2023-07-26 23:34:02.276436: I tensorflow/core/platform/cpu_feature_guard.cc:182] This TensorFlow binary is optimized to use available CPU instructions in performance-critical operations.\n",
      "To enable the following instructions: AVX2 FMA, in other operations, rebuild TensorFlow with the appropriate compiler flags.\n"
     ]
    }
   ],
   "source": [
    "import os\n",
    "import shutil\n",
    "from PIL import Image\n",
    "import random\n",
    "import math\n",
    "import tensorflow as tf\n",
    "import pathlib\n",
    "from tqdm import tqdm"
   ]
  },
  {
   "cell_type": "code",
   "execution_count": 2,
   "id": "67f7f0f3",
   "metadata": {},
   "outputs": [],
   "source": [
    "FROM_IMAGE_PATH = \"preprocessedDataset/from/\"\n",
    "TO_IMAGE_PATH = \"preprocessedDataset/to/\" \n",
    "TRAIN_PATH = \"dataset/train/\"\n",
    "TEST_PATH = \"dataset/test/\"\n",
    "SPLIT_SIZE_IMAGE = 256  \n",
    "DATASET_TRAIN_PERCENT = 0.8  \n",
    "PREPARE_DATASET = False\n",
    "BATCH_SIZE = 1\n"
   ]
  },
  {
   "cell_type": "code",
   "execution_count": 3,
   "id": "b1c93776-009c-48e1-b38c-5db94732937f",
   "metadata": {},
   "outputs": [],
   "source": [
    "if not os.path.isdir(\"AerialImageDataset\"):\n",
    "    !curl -k https://files.inria.fr/aerialimagelabeling/getAerial.sh | bash\n",
    "    shutil.rmtree(\"AerialImageDataset/test\")"
   ]
  },
  {
   "cell_type": "code",
   "execution_count": 4,
   "id": "dc92f639-ef3a-49cc-9a4e-af031ca8da70",
   "metadata": {},
   "outputs": [],
   "source": [
    "\n",
    "def split_image(original_image_path, output_folder, split_size):\n",
    "    original_image = Image.open(original_image_path)\n",
    "    width, height = original_image.size\n",
    "\n",
    "    width = width - (width % split_size)\n",
    "    height = height - (height % split_size)\n",
    "\n",
    "    image_number = 0\n",
    "    name, extension = os.path.splitext(os.path.basename(original_image_path))\n",
    "\n",
    "    for y in range(0, height, split_size):\n",
    "        for x in range(0, width, split_size):\n",
    "            box = (x, y, x + split_size, y + split_size)\n",
    "            cropped_image = original_image.crop(box)\n",
    "            cropped_image.save(f\"{output_folder}/{name}_{image_number}{extension}\")\n",
    "            image_number += 1"
   ]
  },
  {
   "cell_type": "code",
   "execution_count": 5,
   "id": "663be9fd",
   "metadata": {},
   "outputs": [],
   "source": [
    "def merge_image(img1_path, img2_path, new_image_path):\n",
    "    image1 = Image.open(img1_path)\n",
    "    image2 = Image.open(img2_path)\n",
    "    \n",
    "    #resize, first image\n",
    "    image1 = image1.resize((SPLIT_SIZE_IMAGE, SPLIT_SIZE_IMAGE))\n",
    "    image1_size = image1.size\n",
    "    image2_size = image2.size\n",
    "    new_image = Image.new('RGB',(2*image1_size[0], image1_size[1]), (250,250,250))\n",
    "    new_image.paste(image1,(0,0))\n",
    "    new_image.paste(image2,(image1_size[0],0))\n",
    "    new_image.save(new_image_path,\"JPEG\")"
   ]
  },
  {
   "cell_type": "code",
   "execution_count": 6,
   "id": "35b0bbc2",
   "metadata": {},
   "outputs": [],
   "source": [
    "\n",
    "def create_dataset(train_percent):\n",
    "    \n",
    "    files = [element for element in os.listdir(FROM_IMAGE_PATH) if not element.startswith(\".\") if \".tif\" in element]\n",
    "    elements = files\n",
    "    for i in tqdm(range(math.ceil(len(files) * train_percent))):\n",
    "        element = random.choice(elements)\n",
    "        elements.remove(element)\n",
    "        merge_image(\n",
    "            FROM_IMAGE_PATH + element,\n",
    "            TO_IMAGE_PATH + element,\n",
    "            TRAIN_PATH + element.replace(\".tif\", \".jpeg\")\n",
    "        )\n",
    "        os.remove(FROM_IMAGE_PATH + element)\n",
    "        os.remove(TO_IMAGE_PATH + element)\n",
    "\n",
    "    for element in tqdm(elements):\n",
    "        merge_image(\n",
    "            FROM_IMAGE_PATH + element,\n",
    "            TO_IMAGE_PATH + element,\n",
    "            TEST_PATH + element.replace(\".tif\", \".jpeg\")\n",
    "        )\n",
    "        os.remove(FROM_IMAGE_PATH + element)\n",
    "        os.remove(TO_IMAGE_PATH + element)"
   ]
  },
  {
   "cell_type": "code",
   "execution_count": 7,
   "id": "45ff4866",
   "metadata": {},
   "outputs": [],
   "source": [
    "if PREPARE_DATASET: \n",
    "    os.makedirs(FROM_IMAGE_PATH)\n",
    "    os.makedirs(TO_IMAGE_PATH)\n",
    "    os.makedirs(TRAIN_PATH)\n",
    "    os.makedirs(TEST_PATH)"
   ]
  },
  {
   "cell_type": "code",
   "execution_count": 8,
   "id": "a18d6c3b",
   "metadata": {},
   "outputs": [
    {
     "name": "stderr",
     "output_type": "stream",
     "text": [
      "100%|██████████| 180/180 [04:30<00:00,  1.51s/it]\n"
     ]
    }
   ],
   "source": [
    "if PREPARE_DATASET: \n",
    "    gt_path = \"AerialImageDataset/train/gt/\"\n",
    "    for img in tqdm(os.listdir(gt_path)):\n",
    "        split_image(gt_path + img, FROM_IMAGE_PATH, SPLIT_SIZE_IMAGE)"
   ]
  },
  {
   "cell_type": "code",
   "execution_count": 9,
   "id": "ca84f3ec",
   "metadata": {},
   "outputs": [
    {
     "name": "stderr",
     "output_type": "stream",
     "text": [
      "100%|██████████| 180/180 [06:58<00:00,  2.33s/it]\n"
     ]
    }
   ],
   "source": [
    "if PREPARE_DATASET:\n",
    "    gt_path = \"AerialImageDataset/train/images/\"\n",
    "    for img in tqdm(os.listdir(gt_path)):\n",
    "        split_image(gt_path + img, TO_IMAGE_PATH, SPLIT_SIZE_IMAGE)"
   ]
  },
  {
   "cell_type": "code",
   "execution_count": 10,
   "id": "01eb1070",
   "metadata": {},
   "outputs": [
    {
     "name": "stderr",
     "output_type": "stream",
     "text": [
      "100%|██████████| 51984/51984 [18:13<00:00, 47.55it/s]\n",
      "100%|██████████| 12996/12996 [04:14<00:00, 51.10it/s]\n"
     ]
    }
   ],
   "source": [
    "if PREPARE_DATASET:    \n",
    "    create_dataset(DATASET_TRAIN_PERCENT)"
   ]
  }
 ],
 "metadata": {
  "kernelspec": {
   "display_name": "Python 3 (ipykernel)",
   "language": "python",
   "name": "python3"
  },
  "language_info": {
   "codemirror_mode": {
    "name": "ipython",
    "version": 3
   },
   "file_extension": ".py",
   "mimetype": "text/x-python",
   "name": "python",
   "nbconvert_exporter": "python",
   "pygments_lexer": "ipython3",
   "version": "3.8.10"
  }
 },
 "nbformat": 4,
 "nbformat_minor": 5
}
