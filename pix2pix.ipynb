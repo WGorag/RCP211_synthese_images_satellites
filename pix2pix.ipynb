{
 "cells": [
  {
   "cell_type": "code",
   "execution_count": 1,
   "id": "b90b1188",
   "metadata": {},
   "outputs": [],
   "source": [
    "import os\n",
    "import shutil\n",
    "from PIL import Image\n",
    "import random\n",
    "import math"
   ]
  },
  {
   "cell_type": "code",
   "execution_count": 2,
   "id": "67f7f0f3",
   "metadata": {},
   "outputs": [],
   "source": [
    "FROM_IMAGE_PATH = \"preprocessedDataset/from/\"\n",
    "TO_IMAGE_PATH = \"preprocessedDataset/to/\" \n",
    "SPLIT_SIZE_IMAGE = 256  \n",
    "DATASET_TRAIN_PERCENT = 0.8  \n",
    "PREPARE_DATASET = False\n"
   ]
  },
  {
   "cell_type": "code",
   "execution_count": 3,
   "id": "b1c93776-009c-48e1-b38c-5db94732937f",
   "metadata": {},
   "outputs": [],
   "source": [
    "if not os.path.isdir(\"AerialImageDataset\"):\n",
    "    !curl -k https://files.inria.fr/aerialimagelabeling/getAerial.sh | bash\n",
    "    shutil.rmtree(\"AerialImageDataset/test\")"
   ]
  },
  {
   "cell_type": "code",
   "execution_count": 4,
   "id": "dc92f639-ef3a-49cc-9a4e-af031ca8da70",
   "metadata": {},
   "outputs": [],
   "source": [
    "\n",
    "def split_image(original_image_path, output_folder, split_size):\n",
    "    original_image = Image.open(original_image_path)\n",
    "    width, height = original_image.size\n",
    "\n",
    "    width = width - (width % split_size)\n",
    "    height = height - (height % split_size)\n",
    "\n",
    "    image_number = 0\n",
    "    name, extension = os.path.splitext(os.path.basename(original_image_path))\n",
    "\n",
    "    for y in range(0, height, split_size):\n",
    "        for x in range(0, width, split_size):\n",
    "            box = (x, y, x + split_size, y + split_size)\n",
    "            cropped_image = original_image.crop(box)\n",
    "            cropped_image.save(f\"{output_folder}/{name}_{image_number}{extension}\")\n",
    "            image_number += 1"
   ]
  },
  {
   "cell_type": "code",
   "execution_count": 5,
   "id": "35b0bbc2",
   "metadata": {},
   "outputs": [],
   "source": [
    "\n",
    "def create_dataset(train_percent):\n",
    "    \n",
    "    files = [element for element in os.listdir(FROM_IMAGE_PATH) if not element.startswith(\".\") if \".tif\" in element]\n",
    "    for i in range(math.ceil(len(files) * train_percent)):\n",
    "        element = random.choice([element for element in os.listdir(FROM_IMAGE_PATH) if not element.startswith(\".\") if \".tif\" in element])\n",
    "        shutil.move(FROM_IMAGE_PATH + element, FROM_IMAGE_PATH + \"train/\" + element )\n",
    "        shutil.move(TO_IMAGE_PATH + element, TO_IMAGE_PATH + \"train/\" + element )\n",
    "\n",
    "    for element in [element for element in os.listdir(FROM_IMAGE_PATH) if not element.startswith(\".\") if \".tif\" in element]:\n",
    "        shutil.move(FROM_IMAGE_PATH + element, FROM_IMAGE_PATH + \"test/\" + element )\n",
    "        shutil.move(TO_IMAGE_PATH + element, TO_IMAGE_PATH + \"test/\" + element )"
   ]
  },
  {
   "cell_type": "code",
   "execution_count": 6,
   "id": "a18d6c3b",
   "metadata": {},
   "outputs": [],
   "source": [
    "if PREPARE_DATASET: \n",
    "    gt_path = \"AerialImageDataset/train/gt/\"\n",
    "    for img in os.listdir(gt_path):\n",
    "        split_image(gt_path + img, FROM_IMAGE_PATH, SPLIT_SIZE_IMAGE)"
   ]
  },
  {
   "cell_type": "code",
   "execution_count": 7,
   "id": "ca84f3ec",
   "metadata": {},
   "outputs": [],
   "source": [
    "if PREPARE_DATASET:\n",
    "    gt_path = \"AerialImageDataset/train/images/\"\n",
    "    for img in os.listdir(gt_path):\n",
    "        split_image(gt_path + img, TO_IMAGE_PATH, SPLIT_SIZE_IMAGE)"
   ]
  },
  {
   "cell_type": "code",
   "execution_count": 8,
   "id": "01eb1070",
   "metadata": {},
   "outputs": [],
   "source": [
    "if PREPARE_DATASET:    \n",
    "    create_dataset(DATASET_TRAIN_PERCENT)"
   ]
  }
 ],
 "metadata": {
  "kernelspec": {
   "display_name": "Python 3 (ipykernel)",
   "language": "python",
   "name": "python3"
  },
  "language_info": {
   "codemirror_mode": {
    "name": "ipython",
    "version": 3
   },
   "file_extension": ".py",
   "mimetype": "text/x-python",
   "name": "python",
   "nbconvert_exporter": "python",
   "pygments_lexer": "ipython3",
   "version": "3.8.10"
  }
 },
 "nbformat": 4,
 "nbformat_minor": 5
}
